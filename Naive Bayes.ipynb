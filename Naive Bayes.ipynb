{
 "cells": [
  {
   "cell_type": "markdown",
   "metadata": {},
   "source": [
    "#  Naive Bayes - Spam Or Ham"
   ]
  },
  {
   "cell_type": "code",
   "execution_count": 7,
   "metadata": {
    "collapsed": true
   },
   "outputs": [],
   "source": [
    "import numpy as np \n",
    "import pandas as pd \n",
    "import matplotlib.pyplot as plt \n",
    "\n",
    "%matplotlib inline "
   ]
  },
  {
   "cell_type": "code",
   "execution_count": 43,
   "metadata": {
    "collapsed": true
   },
   "outputs": [],
   "source": [
    "data = pd.DataFrame({'message': [], 'class': []})"
   ]
  },
  {
   "cell_type": "code",
   "execution_count": 44,
   "metadata": {
    "collapsed": true
   },
   "outputs": [],
   "source": [
    "import os \n",
    "import io \n"
   ]
  },
  {
   "cell_type": "code",
   "execution_count": 45,
   "metadata": {},
   "outputs": [],
   "source": [
    "for root, dirnames, filenames in os.walk(\"./emails/spam\"): \n",
    "    pass "
   ]
  },
  {
   "cell_type": "code",
   "execution_count": 46,
   "metadata": {
    "collapsed": true
   },
   "outputs": [],
   "source": [
    "def readFiles(path):\n",
    "    for root, dirnames, filenames in os.walk(path): \n",
    "        for filename in filenames: \n",
    "            full_path = os.path.join(root, filename)\n",
    "            with open(full_path, \"r\", encoding=\"latin1\") as f: \n",
    "                all_text = f.read()\n",
    "            message = \" \".join(all_text.split(\"\\n\\n\")[1:])\n",
    "            message = message.replace(\"\\n\", \" \")\n",
    "            yield filename, message\n",
    "            "
   ]
  },
  {
   "cell_type": "code",
   "execution_count": 47,
   "metadata": {},
   "outputs": [],
   "source": [
    "def dataFrameFromDirectory(path, classification): \n",
    "    rows = []\n",
    "    index = []\n",
    "    for filename, message in readFiles(path): \n",
    "        rows.append({'message': message  , 'class': classification })\n",
    "        index.append(filename)\n",
    "    return pd.DataFrame(rows, index=index) "
   ]
  },
  {
   "cell_type": "code",
   "execution_count": 37,
   "metadata": {},
   "outputs": [
    {
     "data": {
      "text/html": [
       "<div>\n",
       "<style>\n",
       "    .dataframe thead tr:only-child th {\n",
       "        text-align: right;\n",
       "    }\n",
       "\n",
       "    .dataframe thead th {\n",
       "        text-align: left;\n",
       "    }\n",
       "\n",
       "    .dataframe tbody tr th {\n",
       "        vertical-align: top;\n",
       "    }\n",
       "</style>\n",
       "<table border=\"1\" class=\"dataframe\">\n",
       "  <thead>\n",
       "    <tr style=\"text-align: right;\">\n",
       "      <th></th>\n",
       "      <th>class</th>\n",
       "      <th>message</th>\n",
       "    </tr>\n",
       "  </thead>\n",
       "  <tbody>\n",
       "  </tbody>\n",
       "</table>\n",
       "</div>"
      ],
      "text/plain": [
       "Empty DataFrame\n",
       "Columns: [class, message]\n",
       "Index: []"
      ]
     },
     "execution_count": 37,
     "metadata": {},
     "output_type": "execute_result"
    }
   ],
   "source": [
    "data.head()"
   ]
  },
  {
   "cell_type": "code",
   "execution_count": 16,
   "metadata": {},
   "outputs": [
    {
     "name": "stdout",
     "output_type": "stream",
     "text": [
      "\u001b[0m\u001b[01;34mham\u001b[0m/  \u001b[01;34mspam\u001b[0m/\r\n"
     ]
    }
   ],
   "source": [
    "%ls emails"
   ]
  },
  {
   "cell_type": "code",
   "execution_count": 48,
   "metadata": {},
   "outputs": [],
   "source": [
    "data = data.append(dataFrameFromDirectory('./emails/spam', 'spam'))\n",
    "data = data.append(dataFrameFromDirectory('./emails/ham', 'ham'))"
   ]
  },
  {
   "cell_type": "code",
   "execution_count": 49,
   "metadata": {},
   "outputs": [
    {
     "data": {
      "text/html": [
       "<div>\n",
       "<style>\n",
       "    .dataframe thead tr:only-child th {\n",
       "        text-align: right;\n",
       "    }\n",
       "\n",
       "    .dataframe thead th {\n",
       "        text-align: left;\n",
       "    }\n",
       "\n",
       "    .dataframe tbody tr th {\n",
       "        vertical-align: top;\n",
       "    }\n",
       "</style>\n",
       "<table border=\"1\" class=\"dataframe\">\n",
       "  <thead>\n",
       "    <tr style=\"text-align: right;\">\n",
       "      <th></th>\n",
       "      <th>class</th>\n",
       "      <th>message</th>\n",
       "    </tr>\n",
       "  </thead>\n",
       "  <tbody>\n",
       "    <tr>\n",
       "      <th>00123.a5ee0040ec9a30b3f32f61e547fa5f8f</th>\n",
       "      <td>spam</td>\n",
       "      <td>&lt;html&gt; &lt;body&gt; &lt;p&gt;Do you like Sexy Animals doin...</td>\n",
       "    </tr>\n",
       "    <tr>\n",
       "      <th>00393.13d4d84cb98ea19954f895c629520bf8</th>\n",
       "      <td>spam</td>\n",
       "      <td>NEED Health Insurance?   In addition to featur...</td>\n",
       "    </tr>\n",
       "    <tr>\n",
       "      <th>00332.580b62752adefb845db173e375271cb5</th>\n",
       "      <td>spam</td>\n",
       "      <td>------000000000000000000000 Content-Type: text...</td>\n",
       "    </tr>\n",
       "    <tr>\n",
       "      <th>00416.bff1badad869f205fdb54f311f060734</th>\n",
       "      <td>spam</td>\n",
       "      <td>&lt;html&gt; &lt;head&gt; &lt;/head&gt; &lt;body bgcolor=#FFFFFF t...</td>\n",
       "    </tr>\n",
       "    <tr>\n",
       "      <th>00202.d5b52386f66bd36cd1508319c82cf671</th>\n",
       "      <td>spam</td>\n",
       "      <td>Me and my friends have this brand new idea, a ...</td>\n",
       "    </tr>\n",
       "  </tbody>\n",
       "</table>\n",
       "</div>"
      ],
      "text/plain": [
       "                                       class  \\\n",
       "00123.a5ee0040ec9a30b3f32f61e547fa5f8f  spam   \n",
       "00393.13d4d84cb98ea19954f895c629520bf8  spam   \n",
       "00332.580b62752adefb845db173e375271cb5  spam   \n",
       "00416.bff1badad869f205fdb54f311f060734  spam   \n",
       "00202.d5b52386f66bd36cd1508319c82cf671  spam   \n",
       "\n",
       "                                                                                  message  \n",
       "00123.a5ee0040ec9a30b3f32f61e547fa5f8f  <html> <body> <p>Do you like Sexy Animals doin...  \n",
       "00393.13d4d84cb98ea19954f895c629520bf8  NEED Health Insurance?   In addition to featur...  \n",
       "00332.580b62752adefb845db173e375271cb5  ------000000000000000000000 Content-Type: text...  \n",
       "00416.bff1badad869f205fdb54f311f060734   <html> <head> </head> <body bgcolor=#FFFFFF t...  \n",
       "00202.d5b52386f66bd36cd1508319c82cf671  Me and my friends have this brand new idea, a ...  "
      ]
     },
     "execution_count": 49,
     "metadata": {},
     "output_type": "execute_result"
    }
   ],
   "source": [
    "data.head()"
   ]
  },
  {
   "cell_type": "code",
   "execution_count": 51,
   "metadata": {
    "collapsed": true
   },
   "outputs": [],
   "source": [
    "from sklearn.feature_extraction.text import CountVectorizer\n",
    "from sklearn.naive_bayes import MultinomialNB"
   ]
  },
  {
   "cell_type": "code",
   "execution_count": 54,
   "metadata": {},
   "outputs": [
    {
     "data": {
      "text/plain": [
       "MultinomialNB(alpha=1.0, class_prior=None, fit_prior=True)"
      ]
     },
     "execution_count": 54,
     "metadata": {},
     "output_type": "execute_result"
    }
   ],
   "source": [
    "vectorizer = CountVectorizer()\n",
    "counts = vectorizer.fit_transform(data['message'].values)\n",
    "\n",
    "classifier = MultinomialNB()\n",
    "targets = data['class'].values \n",
    "classifier.fit(counts, targets)"
   ]
  },
  {
   "cell_type": "code",
   "execution_count": 56,
   "metadata": {},
   "outputs": [
    {
     "data": {
      "text/plain": [
       "array(['spam', 'ham', 'spam'],\n",
       "      dtype='<U4')"
      ]
     },
     "execution_count": 56,
     "metadata": {},
     "output_type": "execute_result"
    }
   ],
   "source": [
    "examples = ['Free Expires Today', 'Hi Sam, I need to talk to you tomorrow !', 'Promotion Expires Today']\n",
    "examples_counts = vectorizer.transform(examples)\n",
    "\n",
    "predictions = classifier.predict(examples_counts)\n",
    "predictions"
   ]
  }
 ],
 "metadata": {
  "kernelspec": {
   "display_name": "Python3.6",
   "language": "python",
   "name": "python3"
  },
  "language_info": {
   "codemirror_mode": {
    "name": "ipython",
    "version": 3
   },
   "file_extension": ".py",
   "mimetype": "text/x-python",
   "name": "python",
   "nbconvert_exporter": "python",
   "pygments_lexer": "ipython3",
   "version": "3.6.2"
  }
 },
 "nbformat": 4,
 "nbformat_minor": 2
}
